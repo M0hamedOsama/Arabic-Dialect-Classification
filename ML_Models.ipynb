{
 "cells": [
  {
   "cell_type": "markdown",
   "metadata": {
    "id": "plMKkvBdHHHq"
   },
   "source": [
    "    # Import Important Libraries"
   ]
  },
  {
   "cell_type": "code",
   "execution_count": 1,
   "metadata": {
    "id": "Vrd8h6RfG6RL"
   },
   "outputs": [],
   "source": [
    "import pandas as pd\n",
    "from sklearn.feature_extraction.text import TfidfVectorizer\n",
    "from sklearn.preprocessing import LabelEncoder\n",
    "from sklearn.metrics import confusion_matrix,accuracy_score, classification_report\n",
    "from sklearn.svm import SVC\n",
    "from sklearn.tree import DecisionTreeClassifier\n",
    "from sklearn.ensemble import RandomForestClassifier\n",
    "from sklearn.linear_model import LogisticRegression\n",
    "import joblib"
   ]
  },
  {
   "cell_type": "markdown",
   "metadata": {
    "id": "tmcWtrInI0Fo"
   },
   "source": [
    "# Upload Datasets"
   ]
  },
  {
   "cell_type": "code",
   "execution_count": 5,
   "metadata": {
    "colab": {
     "base_uri": "https://localhost:8080/"
    },
    "id": "GfyD3h0kIwHS",
    "outputId": "b38f1a22-f4e0-4259-8141-98f491a2e80f"
   },
   "outputs": [],
   "source": [
    "# from google.colab import drive\n",
    "# drive.mount('/content/drive')"
   ]
  },
  {
   "cell_type": "code",
   "execution_count": 2,
   "metadata": {
    "colab": {
     "base_uri": "https://localhost:8080/",
     "height": 423
    },
    "id": "Way_8iu_JQ_j",
    "outputId": "77a9ae61-bde0-4267-d121-3ce7c4575d56"
   },
   "outputs": [
    {
     "data": {
      "text/html": [
       "<div>\n",
       "<style scoped>\n",
       "    .dataframe tbody tr th:only-of-type {\n",
       "        vertical-align: middle;\n",
       "    }\n",
       "\n",
       "    .dataframe tbody tr th {\n",
       "        vertical-align: top;\n",
       "    }\n",
       "\n",
       "    .dataframe thead th {\n",
       "        text-align: right;\n",
       "    }\n",
       "</style>\n",
       "<table border=\"1\" class=\"dataframe\">\n",
       "  <thead>\n",
       "    <tr style=\"text-align: right;\">\n",
       "      <th></th>\n",
       "      <th>text</th>\n",
       "      <th>label</th>\n",
       "    </tr>\n",
       "  </thead>\n",
       "  <tbody>\n",
       "    <tr>\n",
       "      <th>0</th>\n",
       "      <td>زهقنا بقى من جو الخطب ده</td>\n",
       "      <td>EG</td>\n",
       "    </tr>\n",
       "    <tr>\n",
       "      <th>1</th>\n",
       "      <td>في روتين بتخاف يضل وفي روتين بتخاف يفل</td>\n",
       "      <td>LB</td>\n",
       "    </tr>\n",
       "    <tr>\n",
       "      <th>2</th>\n",
       "      <td>هه والله فكرني بيغ غي ادومة ديالنا مستيلي عليه</td>\n",
       "      <td>MA</td>\n",
       "    </tr>\n",
       "    <tr>\n",
       "      <th>3</th>\n",
       "      <td>بص زمان ايام البيجو السبع راكب محافظات واحد را...</td>\n",
       "      <td>EG</td>\n",
       "    </tr>\n",
       "    <tr>\n",
       "      <th>4</th>\n",
       "      <td>1 ممكن تبعتو رابيد عالحدود مع مصور وتنقلو الي ...</td>\n",
       "      <td>LB</td>\n",
       "    </tr>\n",
       "    <tr>\n",
       "      <th>...</th>\n",
       "      <td>...</td>\n",
       "      <td>...</td>\n",
       "    </tr>\n",
       "    <tr>\n",
       "      <th>118175</th>\n",
       "      <td>ميسي عليه غسل مواعين الغدا ورونالدو مواعين الع...</td>\n",
       "      <td>LY</td>\n",
       "    </tr>\n",
       "    <tr>\n",
       "      <th>118176</th>\n",
       "      <td>اليوم كل اصحابي لي احبهم غايبين عني</td>\n",
       "      <td>MA</td>\n",
       "    </tr>\n",
       "    <tr>\n",
       "      <th>118177</th>\n",
       "      <td>الحطب يبي ذهب ويبي 60 وقية حتي البطاطين يشكرو ...</td>\n",
       "      <td>LY</td>\n",
       "    </tr>\n",
       "    <tr>\n",
       "      <th>118178</th>\n",
       "      <td>ياريت يكون في دعم تبرع لدفاع المدني كل لازم يس...</td>\n",
       "      <td>LB</td>\n",
       "    </tr>\n",
       "    <tr>\n",
       "      <th>118179</th>\n",
       "      <td>والله الطرطور ما يقدر يصرف ليهم بلحة بركاوي وا...</td>\n",
       "      <td>SD</td>\n",
       "    </tr>\n",
       "  </tbody>\n",
       "</table>\n",
       "<p>118180 rows × 2 columns</p>\n",
       "</div>"
      ],
      "text/plain": [
       "                                                     text label\n",
       "0                                زهقنا بقى من جو الخطب ده    EG\n",
       "1                  في روتين بتخاف يضل وفي روتين بتخاف يفل    LB\n",
       "2          هه والله فكرني بيغ غي ادومة ديالنا مستيلي عليه    MA\n",
       "3       بص زمان ايام البيجو السبع راكب محافظات واحد را...    EG\n",
       "4       1 ممكن تبعتو رابيد عالحدود مع مصور وتنقلو الي ...    LB\n",
       "...                                                   ...   ...\n",
       "118175  ميسي عليه غسل مواعين الغدا ورونالدو مواعين الع...    LY\n",
       "118176                اليوم كل اصحابي لي احبهم غايبين عني    MA\n",
       "118177  الحطب يبي ذهب ويبي 60 وقية حتي البطاطين يشكرو ...    LY\n",
       "118178  ياريت يكون في دعم تبرع لدفاع المدني كل لازم يس...    LB\n",
       "118179  والله الطرطور ما يقدر يصرف ليهم بلحة بركاوي وا...    SD\n",
       "\n",
       "[118180 rows x 2 columns]"
      ]
     },
     "execution_count": 2,
     "metadata": {},
     "output_type": "execute_result"
    }
   ],
   "source": [
    "Train_df = pd.read_csv(r\"C:\\Users\\alabdeen\\Desktop\\Ai-Book\\Advanced NLP\\Project_nlp\\preprocessed_train_with_stopwords.csv\")\n",
    "Train_df.drop(columns='Unnamed: 0', inplace=True, errors='ignore')\n",
    "Train_df"
   ]
  },
  {
   "cell_type": "code",
   "execution_count": 3,
   "metadata": {
    "colab": {
     "base_uri": "https://localhost:8080/",
     "height": 423
    },
    "id": "iHmOU2TRJxcB",
    "outputId": "f656906c-1055-4fbb-a2e6-e456282c534a"
   },
   "outputs": [
    {
     "data": {
      "text/html": [
       "<div>\n",
       "<style scoped>\n",
       "    .dataframe tbody tr th:only-of-type {\n",
       "        vertical-align: middle;\n",
       "    }\n",
       "\n",
       "    .dataframe tbody tr th {\n",
       "        vertical-align: top;\n",
       "    }\n",
       "\n",
       "    .dataframe thead th {\n",
       "        text-align: right;\n",
       "    }\n",
       "</style>\n",
       "<table border=\"1\" class=\"dataframe\">\n",
       "  <thead>\n",
       "    <tr style=\"text-align: right;\">\n",
       "      <th></th>\n",
       "      <th>text</th>\n",
       "      <th>label</th>\n",
       "    </tr>\n",
       "  </thead>\n",
       "  <tbody>\n",
       "    <tr>\n",
       "      <th>0</th>\n",
       "      <td>مين دي يامرمر ماشاء الله</td>\n",
       "      <td>EG</td>\n",
       "    </tr>\n",
       "    <tr>\n",
       "      <th>1</th>\n",
       "      <td>ياجماعة في اللي يتلذذ بلجلد 09</td>\n",
       "      <td>LY</td>\n",
       "    </tr>\n",
       "    <tr>\n",
       "      <th>2</th>\n",
       "      <td>الحلقة اكيد حتكون ممتعة بس ياريت يا استاذة اسع...</td>\n",
       "      <td>MA</td>\n",
       "    </tr>\n",
       "    <tr>\n",
       "      <th>3</th>\n",
       "      <td>ابرا ودير عقل ياروحي</td>\n",
       "      <td>LY</td>\n",
       "    </tr>\n",
       "    <tr>\n",
       "      <th>4</th>\n",
       "      <td>اخرسي يا بوومة خربتي اليمن بجهلك وتآمرك</td>\n",
       "      <td>EG</td>\n",
       "    </tr>\n",
       "    <tr>\n",
       "      <th>...</th>\n",
       "      <td>...</td>\n",
       "      <td>...</td>\n",
       "    </tr>\n",
       "    <tr>\n",
       "      <th>29540</th>\n",
       "      <td>لا خلاص حتى نا بنسلم في التعليم ونمشيلهم هو حت...</td>\n",
       "      <td>LY</td>\n",
       "    </tr>\n",
       "    <tr>\n",
       "      <th>29541</th>\n",
       "      <td>كل سنه وانت طيب يا ابو قلب طيب</td>\n",
       "      <td>EG</td>\n",
       "    </tr>\n",
       "    <tr>\n",
       "      <th>29542</th>\n",
       "      <td>خلف السد شطبوا حضارة صور اخيرة لغرق احد القري ...</td>\n",
       "      <td>EG</td>\n",
       "    </tr>\n",
       "    <tr>\n",
       "      <th>29543</th>\n",
       "      <td>كان عزيز عليا قوس قزح دابا وليتي كنكرهو فاش كي...</td>\n",
       "      <td>MA</td>\n",
       "    </tr>\n",
       "    <tr>\n",
       "      <th>29544</th>\n",
       "      <td>ما الك الا الباشا</td>\n",
       "      <td>LB</td>\n",
       "    </tr>\n",
       "  </tbody>\n",
       "</table>\n",
       "<p>29545 rows × 2 columns</p>\n",
       "</div>"
      ],
      "text/plain": [
       "                                                    text label\n",
       "0                               مين دي يامرمر ماشاء الله    EG\n",
       "1                         ياجماعة في اللي يتلذذ بلجلد 09    LY\n",
       "2      الحلقة اكيد حتكون ممتعة بس ياريت يا استاذة اسع...    MA\n",
       "3                                   ابرا ودير عقل ياروحي    LY\n",
       "4                اخرسي يا بوومة خربتي اليمن بجهلك وتآمرك    EG\n",
       "...                                                  ...   ...\n",
       "29540  لا خلاص حتى نا بنسلم في التعليم ونمشيلهم هو حت...    LY\n",
       "29541                     كل سنه وانت طيب يا ابو قلب طيب    EG\n",
       "29542  خلف السد شطبوا حضارة صور اخيرة لغرق احد القري ...    EG\n",
       "29543  كان عزيز عليا قوس قزح دابا وليتي كنكرهو فاش كي...    MA\n",
       "29544                                  ما الك الا الباشا    LB\n",
       "\n",
       "[29545 rows x 2 columns]"
      ]
     },
     "execution_count": 3,
     "metadata": {},
     "output_type": "execute_result"
    }
   ],
   "source": [
    "Test_df = pd.read_csv(r\"C:\\Users\\alabdeen\\Desktop\\Ai-Book\\Advanced NLP\\Project_nlp\\preprocessed_test_with_stopwords.csv\")\n",
    "Test_df.drop(columns='Unnamed: 0', inplace=True, errors='ignore')\n",
    "Test_df"
   ]
  },
  {
   "cell_type": "markdown",
   "metadata": {
    "id": "_xaRQ0Cdm226"
   },
   "source": [
    "# TF-IDF"
   ]
  },
  {
   "cell_type": "code",
   "execution_count": 4,
   "metadata": {
    "colab": {
     "base_uri": "https://localhost:8080/"
    },
    "id": "92PIXNf4K2O4",
    "outputId": "09de55c2-ada9-4bbe-ccb2-c5159c40e353"
   },
   "outputs": [
    {
     "name": "stdout",
     "output_type": "stream",
     "text": [
      "97\n",
      "27\n"
     ]
    }
   ],
   "source": [
    "print(Train_df['text'].isna().sum())\n",
    "print(Test_df['text'].isna().sum())"
   ]
  },
  {
   "cell_type": "code",
   "execution_count": 5,
   "metadata": {
    "colab": {
     "base_uri": "https://localhost:8080/",
     "height": 441
    },
    "id": "GEptBVZ8Lcgq",
    "outputId": "e86c58d2-629f-4ef8-8bb3-e14757933297"
   },
   "outputs": [
    {
     "name": "stdout",
     "output_type": "stream",
     "text": [
      "Rows with NaN values in Train_df:\n"
     ]
    },
    {
     "data": {
      "text/html": [
       "<div>\n",
       "<style scoped>\n",
       "    .dataframe tbody tr th:only-of-type {\n",
       "        vertical-align: middle;\n",
       "    }\n",
       "\n",
       "    .dataframe tbody tr th {\n",
       "        vertical-align: top;\n",
       "    }\n",
       "\n",
       "    .dataframe thead th {\n",
       "        text-align: right;\n",
       "    }\n",
       "</style>\n",
       "<table border=\"1\" class=\"dataframe\">\n",
       "  <thead>\n",
       "    <tr style=\"text-align: right;\">\n",
       "      <th></th>\n",
       "      <th>text</th>\n",
       "      <th>label</th>\n",
       "    </tr>\n",
       "  </thead>\n",
       "  <tbody>\n",
       "    <tr>\n",
       "      <th>92</th>\n",
       "      <td>NaN</td>\n",
       "      <td>EG</td>\n",
       "    </tr>\n",
       "    <tr>\n",
       "      <th>2287</th>\n",
       "      <td>NaN</td>\n",
       "      <td>EG</td>\n",
       "    </tr>\n",
       "    <tr>\n",
       "      <th>3172</th>\n",
       "      <td>NaN</td>\n",
       "      <td>MA</td>\n",
       "    </tr>\n",
       "    <tr>\n",
       "      <th>3353</th>\n",
       "      <td>NaN</td>\n",
       "      <td>EG</td>\n",
       "    </tr>\n",
       "    <tr>\n",
       "      <th>6912</th>\n",
       "      <td>NaN</td>\n",
       "      <td>EG</td>\n",
       "    </tr>\n",
       "    <tr>\n",
       "      <th>...</th>\n",
       "      <td>...</td>\n",
       "      <td>...</td>\n",
       "    </tr>\n",
       "    <tr>\n",
       "      <th>109103</th>\n",
       "      <td>NaN</td>\n",
       "      <td>EG</td>\n",
       "    </tr>\n",
       "    <tr>\n",
       "      <th>109848</th>\n",
       "      <td>NaN</td>\n",
       "      <td>EG</td>\n",
       "    </tr>\n",
       "    <tr>\n",
       "      <th>113544</th>\n",
       "      <td>NaN</td>\n",
       "      <td>LB</td>\n",
       "    </tr>\n",
       "    <tr>\n",
       "      <th>115905</th>\n",
       "      <td>NaN</td>\n",
       "      <td>MA</td>\n",
       "    </tr>\n",
       "    <tr>\n",
       "      <th>117145</th>\n",
       "      <td>NaN</td>\n",
       "      <td>EG</td>\n",
       "    </tr>\n",
       "  </tbody>\n",
       "</table>\n",
       "<p>97 rows × 2 columns</p>\n",
       "</div>"
      ],
      "text/plain": [
       "       text label\n",
       "92      NaN    EG\n",
       "2287    NaN    EG\n",
       "3172    NaN    MA\n",
       "3353    NaN    EG\n",
       "6912    NaN    EG\n",
       "...     ...   ...\n",
       "109103  NaN    EG\n",
       "109848  NaN    EG\n",
       "113544  NaN    LB\n",
       "115905  NaN    MA\n",
       "117145  NaN    EG\n",
       "\n",
       "[97 rows x 2 columns]"
      ]
     },
     "execution_count": 5,
     "metadata": {},
     "output_type": "execute_result"
    }
   ],
   "source": [
    "print(\"Rows with NaN values in Train_df:\")\n",
    "Train_df[Train_df['text'].isna()]"
   ]
  },
  {
   "cell_type": "code",
   "execution_count": 16,
   "metadata": {
    "colab": {
     "base_uri": "https://localhost:8080/",
     "height": 1000
    },
    "id": "DGZJNEWfLepo",
    "outputId": "05b6654b-6455-4b12-e774-943b8e69b84f"
   },
   "outputs": [
    {
     "name": "stdout",
     "output_type": "stream",
     "text": [
      "Rows with NaN values in Test_df:\n"
     ]
    },
    {
     "data": {
      "text/html": [
       "<div>\n",
       "<style scoped>\n",
       "    .dataframe tbody tr th:only-of-type {\n",
       "        vertical-align: middle;\n",
       "    }\n",
       "\n",
       "    .dataframe tbody tr th {\n",
       "        vertical-align: top;\n",
       "    }\n",
       "\n",
       "    .dataframe thead th {\n",
       "        text-align: right;\n",
       "    }\n",
       "</style>\n",
       "<table border=\"1\" class=\"dataframe\">\n",
       "  <thead>\n",
       "    <tr style=\"text-align: right;\">\n",
       "      <th></th>\n",
       "      <th>text</th>\n",
       "      <th>label</th>\n",
       "    </tr>\n",
       "  </thead>\n",
       "  <tbody>\n",
       "    <tr>\n",
       "      <th>1004</th>\n",
       "      <td>NaN</td>\n",
       "      <td>EG</td>\n",
       "    </tr>\n",
       "    <tr>\n",
       "      <th>1026</th>\n",
       "      <td>NaN</td>\n",
       "      <td>EG</td>\n",
       "    </tr>\n",
       "    <tr>\n",
       "      <th>1189</th>\n",
       "      <td>NaN</td>\n",
       "      <td>LY</td>\n",
       "    </tr>\n",
       "    <tr>\n",
       "      <th>1312</th>\n",
       "      <td>NaN</td>\n",
       "      <td>EG</td>\n",
       "    </tr>\n",
       "    <tr>\n",
       "      <th>1793</th>\n",
       "      <td>NaN</td>\n",
       "      <td>EG</td>\n",
       "    </tr>\n",
       "    <tr>\n",
       "      <th>2268</th>\n",
       "      <td>NaN</td>\n",
       "      <td>LY</td>\n",
       "    </tr>\n",
       "    <tr>\n",
       "      <th>4752</th>\n",
       "      <td>NaN</td>\n",
       "      <td>LY</td>\n",
       "    </tr>\n",
       "    <tr>\n",
       "      <th>5540</th>\n",
       "      <td>NaN</td>\n",
       "      <td>EG</td>\n",
       "    </tr>\n",
       "    <tr>\n",
       "      <th>6643</th>\n",
       "      <td>NaN</td>\n",
       "      <td>LB</td>\n",
       "    </tr>\n",
       "    <tr>\n",
       "      <th>7358</th>\n",
       "      <td>NaN</td>\n",
       "      <td>EG</td>\n",
       "    </tr>\n",
       "    <tr>\n",
       "      <th>7554</th>\n",
       "      <td>NaN</td>\n",
       "      <td>MA</td>\n",
       "    </tr>\n",
       "    <tr>\n",
       "      <th>8271</th>\n",
       "      <td>NaN</td>\n",
       "      <td>EG</td>\n",
       "    </tr>\n",
       "    <tr>\n",
       "      <th>8613</th>\n",
       "      <td>NaN</td>\n",
       "      <td>SD</td>\n",
       "    </tr>\n",
       "    <tr>\n",
       "      <th>11605</th>\n",
       "      <td>NaN</td>\n",
       "      <td>EG</td>\n",
       "    </tr>\n",
       "    <tr>\n",
       "      <th>12394</th>\n",
       "      <td>NaN</td>\n",
       "      <td>EG</td>\n",
       "    </tr>\n",
       "    <tr>\n",
       "      <th>12704</th>\n",
       "      <td>NaN</td>\n",
       "      <td>LB</td>\n",
       "    </tr>\n",
       "    <tr>\n",
       "      <th>13331</th>\n",
       "      <td>NaN</td>\n",
       "      <td>EG</td>\n",
       "    </tr>\n",
       "    <tr>\n",
       "      <th>13435</th>\n",
       "      <td>NaN</td>\n",
       "      <td>EG</td>\n",
       "    </tr>\n",
       "    <tr>\n",
       "      <th>17221</th>\n",
       "      <td>NaN</td>\n",
       "      <td>LY</td>\n",
       "    </tr>\n",
       "    <tr>\n",
       "      <th>17732</th>\n",
       "      <td>NaN</td>\n",
       "      <td>LY</td>\n",
       "    </tr>\n",
       "    <tr>\n",
       "      <th>17755</th>\n",
       "      <td>NaN</td>\n",
       "      <td>EG</td>\n",
       "    </tr>\n",
       "    <tr>\n",
       "      <th>18066</th>\n",
       "      <td>NaN</td>\n",
       "      <td>LB</td>\n",
       "    </tr>\n",
       "    <tr>\n",
       "      <th>18339</th>\n",
       "      <td>NaN</td>\n",
       "      <td>EG</td>\n",
       "    </tr>\n",
       "    <tr>\n",
       "      <th>20389</th>\n",
       "      <td>NaN</td>\n",
       "      <td>EG</td>\n",
       "    </tr>\n",
       "    <tr>\n",
       "      <th>20453</th>\n",
       "      <td>NaN</td>\n",
       "      <td>EG</td>\n",
       "    </tr>\n",
       "    <tr>\n",
       "      <th>20495</th>\n",
       "      <td>NaN</td>\n",
       "      <td>EG</td>\n",
       "    </tr>\n",
       "    <tr>\n",
       "      <th>23002</th>\n",
       "      <td>NaN</td>\n",
       "      <td>EG</td>\n",
       "    </tr>\n",
       "    <tr>\n",
       "      <th>23774</th>\n",
       "      <td>NaN</td>\n",
       "      <td>LY</td>\n",
       "    </tr>\n",
       "    <tr>\n",
       "      <th>24465</th>\n",
       "      <td>NaN</td>\n",
       "      <td>EG</td>\n",
       "    </tr>\n",
       "    <tr>\n",
       "      <th>24700</th>\n",
       "      <td>NaN</td>\n",
       "      <td>EG</td>\n",
       "    </tr>\n",
       "    <tr>\n",
       "      <th>25153</th>\n",
       "      <td>NaN</td>\n",
       "      <td>LY</td>\n",
       "    </tr>\n",
       "    <tr>\n",
       "      <th>26268</th>\n",
       "      <td>NaN</td>\n",
       "      <td>MA</td>\n",
       "    </tr>\n",
       "    <tr>\n",
       "      <th>26469</th>\n",
       "      <td>NaN</td>\n",
       "      <td>LY</td>\n",
       "    </tr>\n",
       "    <tr>\n",
       "      <th>26960</th>\n",
       "      <td>NaN</td>\n",
       "      <td>LY</td>\n",
       "    </tr>\n",
       "    <tr>\n",
       "      <th>27102</th>\n",
       "      <td>NaN</td>\n",
       "      <td>MA</td>\n",
       "    </tr>\n",
       "    <tr>\n",
       "      <th>27120</th>\n",
       "      <td>NaN</td>\n",
       "      <td>EG</td>\n",
       "    </tr>\n",
       "    <tr>\n",
       "      <th>28071</th>\n",
       "      <td>NaN</td>\n",
       "      <td>EG</td>\n",
       "    </tr>\n",
       "    <tr>\n",
       "      <th>28669</th>\n",
       "      <td>NaN</td>\n",
       "      <td>LB</td>\n",
       "    </tr>\n",
       "  </tbody>\n",
       "</table>\n",
       "</div>"
      ],
      "text/plain": [
       "      text label\n",
       "1004   NaN    EG\n",
       "1026   NaN    EG\n",
       "1189   NaN    LY\n",
       "1312   NaN    EG\n",
       "1793   NaN    EG\n",
       "2268   NaN    LY\n",
       "4752   NaN    LY\n",
       "5540   NaN    EG\n",
       "6643   NaN    LB\n",
       "7358   NaN    EG\n",
       "7554   NaN    MA\n",
       "8271   NaN    EG\n",
       "8613   NaN    SD\n",
       "11605  NaN    EG\n",
       "12394  NaN    EG\n",
       "12704  NaN    LB\n",
       "13331  NaN    EG\n",
       "13435  NaN    EG\n",
       "17221  NaN    LY\n",
       "17732  NaN    LY\n",
       "17755  NaN    EG\n",
       "18066  NaN    LB\n",
       "18339  NaN    EG\n",
       "20389  NaN    EG\n",
       "20453  NaN    EG\n",
       "20495  NaN    EG\n",
       "23002  NaN    EG\n",
       "23774  NaN    LY\n",
       "24465  NaN    EG\n",
       "24700  NaN    EG\n",
       "25153  NaN    LY\n",
       "26268  NaN    MA\n",
       "26469  NaN    LY\n",
       "26960  NaN    LY\n",
       "27102  NaN    MA\n",
       "27120  NaN    EG\n",
       "28071  NaN    EG\n",
       "28669  NaN    LB"
      ]
     },
     "execution_count": 16,
     "metadata": {},
     "output_type": "execute_result"
    }
   ],
   "source": [
    "print(\"Rows with NaN values in Test_df:\")\n",
    "Test_df[Test_df['text'].isna()]"
   ]
  },
  {
   "cell_type": "code",
   "execution_count": 6,
   "metadata": {
    "id": "JY1BhtjgMPxk"
   },
   "outputs": [],
   "source": [
    "# Drop rows with NaN values in the 'text' column of Train_df\n",
    "Train_df = Train_df.dropna(subset=['text'])\n",
    "\n",
    "# Drop rows with NaN values in the 'text' column of Test_df\n",
    "Test_df = Test_df.dropna(subset=['text'])"
   ]
  },
  {
   "cell_type": "code",
   "execution_count": 7,
   "metadata": {
    "id": "pUt5k2DQOSEA"
   },
   "outputs": [],
   "source": [
    "tfidf = TfidfVectorizer(use_idf=True)\n",
    "X_train_counts = tfidf.fit_transform(Train_df['text'])\n",
    "X_test_counts = tfidf.transform(Test_df['text'])"
   ]
  },
  {
   "cell_type": "markdown",
   "metadata": {
    "id": "89zfF6MKnN0O"
   },
   "source": [
    "# ML Models"
   ]
  },
  {
   "cell_type": "code",
   "execution_count": 8,
   "metadata": {
    "colab": {
     "base_uri": "https://localhost:8080/"
    },
    "id": "lrNP5FgAMiOi",
    "outputId": "149e0402-2481-45e8-da15-d206b052e33f"
   },
   "outputs": [
    {
     "name": "stderr",
     "output_type": "stream",
     "text": [
      "c:\\Users\\alabdeen\\AppData\\Local\\Programs\\Python\\Python310\\lib\\site-packages\\sklearn\\linear_model\\_logistic.py:469: ConvergenceWarning: lbfgs failed to converge (status=1):\n",
      "STOP: TOTAL NO. of ITERATIONS REACHED LIMIT.\n",
      "\n",
      "Increase the number of iterations (max_iter) or scale the data as shown in:\n",
      "    https://scikit-learn.org/stable/modules/preprocessing.html\n",
      "Please also refer to the documentation for alternative solver options:\n",
      "    https://scikit-learn.org/stable/modules/linear_model.html#logistic-regression\n",
      "  n_iter_i = _check_optimize_result(\n"
     ]
    },
    {
     "name": "stdout",
     "output_type": "stream",
     "text": [
      "[[10695   188   487    34   111]\n",
      " [  454  4599   395    26    44]\n",
      " [  831   272  6042    74    74]\n",
      " [  285   133   358  1475    55]\n",
      " [  665   158   398    26  1639]]\n",
      "              precision    recall  f1-score   support\n",
      "\n",
      "          EG       0.83      0.93      0.88     11515\n",
      "          LB       0.86      0.83      0.85      5518\n",
      "          LY       0.79      0.83      0.81      7293\n",
      "          MA       0.90      0.64      0.75      2306\n",
      "          SD       0.85      0.57      0.68      2886\n",
      "\n",
      "    accuracy                           0.83     29518\n",
      "   macro avg       0.85      0.76      0.79     29518\n",
      "weighted avg       0.83      0.83      0.82     29518\n",
      "\n"
     ]
    }
   ],
   "source": [
    "clf = LogisticRegression(random_state=42).fit(X_train_counts, Train_df['label'])\n",
    "y_pred=clf.predict(X_test_counts)\n",
    "print(confusion_matrix(Test_df['label'],y_pred))\n",
    "print(classification_report(Test_df['label'],y_pred))"
   ]
  },
  {
   "cell_type": "code",
   "execution_count": 9,
   "metadata": {
    "colab": {
     "base_uri": "https://localhost:8080/"
    },
    "id": "CeNg0vCVNav3",
    "outputId": "9409ba5d-dc60-48a5-f1b1-925cf4d096c3"
   },
   "outputs": [
    {
     "name": "stdout",
     "output_type": "stream",
     "text": [
      "[[10076   300   577   166   396]\n",
      " [  250  4764   293   104   107]\n",
      " [  551   307  5967   236   232]\n",
      " [  148   120   215  1732    91]\n",
      " [  356   144   260    64  2062]]\n",
      "              precision    recall  f1-score   support\n",
      "\n",
      "          EG       0.89      0.88      0.88     11515\n",
      "          LB       0.85      0.86      0.85      5518\n",
      "          LY       0.82      0.82      0.82      7293\n",
      "          MA       0.75      0.75      0.75      2306\n",
      "          SD       0.71      0.71      0.71      2886\n",
      "\n",
      "    accuracy                           0.83     29518\n",
      "   macro avg       0.80      0.80      0.80     29518\n",
      "weighted avg       0.83      0.83      0.83     29518\n",
      "\n"
     ]
    }
   ],
   "source": [
    "clf_balance = LogisticRegression(random_state=42,class_weight='balanced',solver='newton-cg',C=10).fit(X_train_counts, Train_df['label'])\n",
    "y_pred=clf_balance.predict(X_test_counts)\n",
    "print(confusion_matrix(Test_df['label'],y_pred))\n",
    "print(classification_report(Test_df['label'],y_pred))"
   ]
  },
  {
   "cell_type": "markdown",
   "metadata": {
    "id": "7pcqHpApONto"
   },
   "source": [
    "# save the best model"
   ]
  },
  {
   "cell_type": "code",
   "execution_count": 27,
   "metadata": {
    "colab": {
     "base_uri": "https://localhost:8080/"
    },
    "id": "QGVITC0UOQh1",
    "outputId": "5b582b4d-2d72-470f-9fba-ef51edbc2ac8"
   },
   "outputs": [
    {
     "data": {
      "text/plain": [
       "['tfidf_vectorizer.pkl']"
      ]
     },
     "execution_count": 27,
     "metadata": {},
     "output_type": "execute_result"
    }
   ],
   "source": [
    "joblib.dump(clf_balance, 'logistic_regression_model.pkl')\n",
    "joblib.dump(tfidf, 'tfidf_vectorizer.pkl')"
   ]
  },
  {
   "cell_type": "markdown",
   "metadata": {
    "id": "gs_M45vsPkMh"
   },
   "source": [
    "# reload the model and test it"
   ]
  },
  {
   "cell_type": "code",
   "execution_count": 28,
   "metadata": {
    "id": "eUpucbTGRIz8"
   },
   "outputs": [],
   "source": [
    "%%capture\n",
    "!pip install tnkeeh"
   ]
  },
  {
   "cell_type": "code",
   "execution_count": 15,
   "metadata": {
    "colab": {
     "base_uri": "https://localhost:8080/"
    },
    "id": "Ol4j7W7kO1yk",
    "outputId": "c99d2707-acc4-4557-952b-bfe5b6c90eae"
   },
   "outputs": [
    {
     "name": "stdout",
     "output_type": "stream",
     "text": [
      "The predicted label for 'بقولك' is: EG\n",
      "The predicted label for 'يازول' is: SD\n",
      "The predicted label for 'ياولد' is: LY\n"
     ]
    }
   ],
   "source": [
    "import tnkeeh as tn\n",
    "import re\n",
    "\n",
    "def predict_label(text):\n",
    "\n",
    "    # text preprocessing\n",
    "    cleander = tn.Tnkeeh(remove_diacritics=True,\n",
    "                     remove_html_elements=True,\n",
    "                     remove_twitter_meta=True,\n",
    "                     remove_links=True,\n",
    "                     remove_english=True,\n",
    "                     remove_repeated_chars=True,\n",
    "                     remove_long_words=True,\n",
    "                     normalize=True\n",
    "                     )\n",
    "\n",
    "    text = cleander.clean_raw_text(text)\n",
    "    text = text[0]\n",
    "\n",
    "    text = text.replace(r'[0-9٠-٩]', '')\n",
    "    text = text.replace(\"؟\", \"\")\n",
    "    text = text.replace(\"@\", \"\")\n",
    "    text = text.replace(\"_\", \"\")\n",
    "    text = text.replace(\"-\", \"\")\n",
    "\n",
    "    emoji_pattern = re.compile(\"[\"\n",
    "                               u\"\\U0001F600-\\U0001F64F\"  # emoticons\n",
    "                               u\"\\U0001F300-\\U0001F5FF\"  # symbols & pictographs\n",
    "                               u\"\\U0001F680-\\U0001F6FF\"  # transport & map symbols\n",
    "                               u\"\\U0001F700-\\U0001F77F\"  # alchemical symbols\n",
    "                               u\"\\U0001F780-\\U0001F7FF\"  # Geometric Shapes Extended\n",
    "                               u\"\\U0001F800-\\U0001F8FF\"  # Supplemental Arrows-C\n",
    "                               u\"\\U0001F900-\\U0001F9FF\"  # Supplemental Symbols and Pictographs\n",
    "                               u\"\\U0001FA00-\\U0001FA6F\"  # Chess Symbols\n",
    "                               u\"\\U0001FA70-\\U0001FAFF\"  # Symbols and Pictographs Extended-A\n",
    "                               u\"\\U00002702-\\U000027B0\"  # Dingbats\n",
    "                               u\"\\U000024C2-\\U0001F251\"\n",
    "                               \"]+\", flags=re.UNICODE)\n",
    "    text = emoji_pattern.sub(r'', text)\n",
    "\n",
    "    arabic_punctuation_pattern = r'[^\\w\\s\\u0621-\\u063A\\u0641-\\u064A]'\n",
    "    text = re.sub(arabic_punctuation_pattern,'',text)\n",
    "\n",
    "    text = re.sub(r'\\s+', ' ', text).strip()\n",
    "\n",
    "    # Load the model and the vectorizer\n",
    "    clf_balance = joblib.load('logistic_regression_model.pkl')\n",
    "    tfidf = joblib.load('tfidf_vectorizer.pkl')\n",
    "\n",
    "    # Transform the input text\n",
    "    text_transformed = tfidf.transform([text])\n",
    "\n",
    "    # Predict the label\n",
    "    predicted_label = clf_balance.predict(text_transformed)\n",
    "\n",
    "    return predicted_label[0]\n",
    "\n",
    "# Example prediction\n",
    "text1 = \"بقولك\"\n",
    "predicted_label = predict_label(text1)\n",
    "print(f\"The predicted label for '{text1}' is: {predicted_label}\")\n",
    "text2 = \"يازول\"\n",
    "predicted_label = predict_label(text2)\n",
    "print(f\"The predicted label for '{text2}' is: {predicted_label}\")\n",
    "text3 = \"ياولد\"\n",
    "predicted_label = predict_label(text3)\n",
    "print(f\"The predicted label for '{text3}' is: {predicted_label}\")"
   ]
  },
  {
   "cell_type": "code",
   "execution_count": 15,
   "metadata": {
    "colab": {
     "base_uri": "https://localhost:8080/"
    },
    "id": "Ol4j7W7kO1yk",
    "outputId": "c99d2707-acc4-4557-952b-bfe5b6c90eae"
   },
   "outputs": [
    {
     "name": "stdout",
     "output_type": "stream",
     "text": [
      "The predicted label for 'بقولك' is: EG\n",
      "The predicted label for 'يازول' is: SD\n",
      "The predicted label for 'ياولد' is: LY\n"
     ]
    }
   ],
   "source": [
    "import tnkeeh as tn\n",
    "import re\n",
    "\n",
    "def predict_label(text):\n",
    "\n",
    "    # text preprocessing\n",
    "    cleander = tn.Tnkeeh(remove_diacritics=True,\n",
    "                     remove_html_elements=True,\n",
    "                     remove_twitter_meta=True,\n",
    "                     remove_links=True,\n",
    "                     remove_english=True,\n",
    "                     remove_repeated_chars=True,\n",
    "                     remove_long_words=True,\n",
    "                     normalize=True\n",
    "                     )\n",
    "\n",
    "    text = cleander.clean_raw_text(text)\n",
    "    text = text[0]\n",
    "\n",
    "    text = text.replace(r'[0-9٠-٩]', '')\n",
    "    text = text.replace(\"؟\", \"\")\n",
    "    text = text.replace(\"@\", \"\")\n",
    "    text = text.replace(\"_\", \"\")\n",
    "    text = text.replace(\"-\", \"\")\n",
    "\n",
    "    emoji_pattern = re.compile(\"[\"\n",
    "                               u\"\\U0001F600-\\U0001F64F\"  # emoticons\n",
    "                               u\"\\U0001F300-\\U0001F5FF\"  # symbols & pictographs\n",
    "                               u\"\\U0001F680-\\U0001F6FF\"  # transport & map symbols\n",
    "                               u\"\\U0001F700-\\U0001F77F\"  # alchemical symbols\n",
    "                               u\"\\U0001F780-\\U0001F7FF\"  # Geometric Shapes Extended\n",
    "                               u\"\\U0001F800-\\U0001F8FF\"  # Supplemental Arrows-C\n",
    "                               u\"\\U0001F900-\\U0001F9FF\"  # Supplemental Symbols and Pictographs\n",
    "                               u\"\\U0001FA00-\\U0001FA6F\"  # Chess Symbols\n",
    "                               u\"\\U0001FA70-\\U0001FAFF\"  # Symbols and Pictographs Extended-A\n",
    "                               u\"\\U00002702-\\U000027B0\"  # Dingbats\n",
    "                               u\"\\U000024C2-\\U0001F251\"\n",
    "                               \"]+\", flags=re.UNICODE)\n",
    "    text = emoji_pattern.sub(r'', text)\n",
    "\n",
    "    arabic_punctuation_pattern = r'[^\\w\\s\\u0621-\\u063A\\u0641-\\u064A]'\n",
    "    text = re.sub(arabic_punctuation_pattern,'',text)\n",
    "\n",
    "    text = re.sub(r'\\s+', ' ', text).strip()\n",
    "\n",
    "    # Load the model and the vectorizer\n",
    "    clf_balance = joblib.load('logistic_regression_model.pkl')\n",
    "    tfidf = joblib.load('tfidf_vectorizer.pkl')\n",
    "\n",
    "    # Transform the input text\n",
    "    text_transformed = tfidf.transform([text])\n",
    "\n",
    "    # Predict the label\n",
    "    predicted_label = clf_balance.predict(text_transformed)\n",
    "\n",
    "    return predicted_label[0]\n",
    "\n",
    "# Example prediction\n",
    "text1 = \"بقولك\"\n",
    "predicted_label = predict_label(text1)\n",
    "print(f\"The predicted label for '{text1}' is: {predicted_label}\")\n",
    "text2 = \"يازول\"\n",
    "predicted_label = predict_label(text2)\n",
    "print(f\"The predicted label for '{text2}' is: {predicted_label}\")\n",
    "text3 = \"ياولد\"\n",
    "predicted_label = predict_label(text3)\n",
    "print(f\"The predicted label for '{text3}' is: {predicted_label}\")"
   ]
  },
  {
   "cell_type": "code",
   "execution_count": null,
   "metadata": {},
   "outputs": [],
   "source": []
  }
 ],
 "metadata": {
  "colab": {
   "provenance": []
  },
  "kernelspec": {
   "display_name": "Python 3 (ipykernel)",
   "language": "python",
   "name": "python3"
  },
  "language_info": {
   "codemirror_mode": {
    "name": "ipython",
    "version": 3
   },
   "file_extension": ".py",
   "mimetype": "text/x-python",
   "name": "python",
   "nbconvert_exporter": "python",
   "pygments_lexer": "ipython3",
   "version": "3.12.7"
  }
 },
 "nbformat": 4,
 "nbformat_minor": 4
}
