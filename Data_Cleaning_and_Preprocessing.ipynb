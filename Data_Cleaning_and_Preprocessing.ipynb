{
 "cells": [
  {
   "cell_type": "markdown",
   "metadata": {
    "id": "_dUIEYonHBig"
   },
   "source": [
    "# Install Important Libraries"
   ]
  },
  {
   "cell_type": "code",
   "execution_count": 1,
   "metadata": {
    "id": "kol70oPeGtbj"
   },
   "outputs": [],
   "source": [
    "%%capture\n",
    "!pip install tnkeeh\n",
    "!pip install farasa"
   ]
  },
  {
   "cell_type": "code",
   "execution_count": 2,
   "metadata": {},
   "outputs": [
    {
     "name": "stdout",
     "output_type": "stream",
     "text": [
      "Collecting nltkNote: you may need to restart the kernel to use updated packages.\n",
      "\n",
      "  Downloading nltk-3.9.1-py3-none-any.whl (1.5 MB)\n",
      "     ---------------------------------------- 1.5/1.5 MB 3.1 MB/s eta 0:00:00\n",
      "Requirement already satisfied: joblib in c:\\users\\alabdeen\\appdata\\local\\programs\\python\\python310\\lib\\site-packages (from nltk) (1.4.2)\n",
      "Collecting click\n",
      "  Downloading click-8.1.7-py3-none-any.whl (97 kB)\n",
      "     ---------------------------------------- 97.9/97.9 kB 2.8 MB/s eta 0:00:00\n",
      "Collecting regex>=2021.8.3\n",
      "  Downloading regex-2024.11.6-cp310-cp310-win_amd64.whl (274 kB)\n",
      "     -------------------------------------- 274.0/274.0 kB 3.3 MB/s eta 0:00:00\n",
      "Requirement already satisfied: tqdm in c:\\users\\alabdeen\\appdata\\local\\programs\\python\\python310\\lib\\site-packages (from nltk) (4.67.1)\n",
      "Requirement already satisfied: colorama in c:\\users\\alabdeen\\appdata\\roaming\\python\\python310\\site-packages (from click->nltk) (0.4.6)\n",
      "Installing collected packages: regex, click, nltk\n",
      "Successfully installed click-8.1.7 nltk-3.9.1 regex-2024.11.6\n"
     ]
    },
    {
     "name": "stderr",
     "output_type": "stream",
     "text": [
      "\n",
      "[notice] A new release of pip available: 22.3.1 -> 24.3.1\n",
      "[notice] To update, run: python.exe -m pip install --upgrade pip\n"
     ]
    }
   ],
   "source": [
    "pip install nltk\n"
   ]
  },
  {
   "cell_type": "markdown",
   "metadata": {
    "id": "plMKkvBdHHHq"
   },
   "source": [
    "# Import Important Libraries"
   ]
  },
  {
   "cell_type": "code",
   "execution_count": 3,
   "metadata": {
    "id": "Vrd8h6RfG6RL"
   },
   "outputs": [],
   "source": [
    "import pandas as pd\n",
    "import numpy as np\n",
    "import seaborn as sns\n",
    "from sklearn.model_selection import train_test_split\n",
    "import tnkeeh as tn\n",
    "import re\n",
    "# import arabicstopwords.arabicstopwords as ast"
   ]
  },
  {
   "cell_type": "markdown",
   "metadata": {
    "id": "K-K3a8tOHR1N"
   },
   "source": [
    "#Load Dataset"
   ]
  },
  {
   "cell_type": "code",
   "execution_count": 4,
   "metadata": {
    "colab": {
     "base_uri": "https://localhost:8080/"
    },
    "id": "O4IpfI50HW26",
    "outputId": "a3587c48-4ff7-4e0d-8b8c-6bdb0c52f5fe"
   },
   "outputs": [
    {
     "data": {
      "text/html": [
       "<div>\n",
       "<style scoped>\n",
       "    .dataframe tbody tr th:only-of-type {\n",
       "        vertical-align: middle;\n",
       "    }\n",
       "\n",
       "    .dataframe tbody tr th {\n",
       "        vertical-align: top;\n",
       "    }\n",
       "\n",
       "    .dataframe thead th {\n",
       "        text-align: right;\n",
       "    }\n",
       "</style>\n",
       "<table border=\"1\" class=\"dataframe\">\n",
       "  <thead>\n",
       "    <tr style=\"text-align: right;\">\n",
       "      <th></th>\n",
       "      <th>id</th>\n",
       "      <th>text</th>\n",
       "    </tr>\n",
       "  </thead>\n",
       "  <tbody>\n",
       "    <tr>\n",
       "      <th>0</th>\n",
       "      <td>1009754958479151232</td>\n",
       "      <td>@toha_Altomy @gy_yah قليلين ادب ومنافقين. لو ا...</td>\n",
       "    </tr>\n",
       "    <tr>\n",
       "      <th>1</th>\n",
       "      <td>1009794751548313600</td>\n",
       "      <td>@AlmFaisal 😂😂 الليبيين متقلبين!!!\\nبس بالنسبة ...</td>\n",
       "    </tr>\n",
       "    <tr>\n",
       "      <th>2</th>\n",
       "      <td>1019989115490787200</td>\n",
       "      <td>@smsm071990 @ALMOGRBE كل 20 تانيه شاب ليبي بير...</td>\n",
       "    </tr>\n",
       "    <tr>\n",
       "      <th>3</th>\n",
       "      <td>1035479791758135168</td>\n",
       "      <td>@AboryPro @lyranoo85 رانيا عقليتك متخلفة. اولا...</td>\n",
       "    </tr>\n",
       "    <tr>\n",
       "      <th>4</th>\n",
       "      <td>1035481122921164800</td>\n",
       "      <td>@lyranoo85 شكلك متعقدة علشان الراجل لي تحبيه ا...</td>\n",
       "    </tr>\n",
       "    <tr>\n",
       "      <th>5</th>\n",
       "      <td>877881537122979840</td>\n",
       "      <td>@alibobkr63 او حتى من اي دين او طائفة. اسف ممك...</td>\n",
       "    </tr>\n",
       "    <tr>\n",
       "      <th>6</th>\n",
       "      <td>882940840888471552</td>\n",
       "      <td>@muhamed01111 باهي نستنوه. بلكي مشغول ولا حاجة</td>\n",
       "    </tr>\n",
       "    <tr>\n",
       "      <th>7</th>\n",
       "      <td>882941769444466688</td>\n",
       "      <td>@muhamed01111 مهما اختلفنا راه نحنا خوت. والله...</td>\n",
       "    </tr>\n",
       "    <tr>\n",
       "      <th>8</th>\n",
       "      <td>882943694906818560</td>\n",
       "      <td>@muhamed01111 بالنسبة ليا انا والله شبعت هم ون...</td>\n",
       "    </tr>\n",
       "    <tr>\n",
       "      <th>9</th>\n",
       "      <td>884736569118261248</td>\n",
       "      <td>@Ajo32asLibya @Jed_ly مو نحنا الحياة عندنا مية...</td>\n",
       "    </tr>\n",
       "  </tbody>\n",
       "</table>\n",
       "</div>"
      ],
      "text/plain": [
       "                    id                                               text\n",
       "0  1009754958479151232  @toha_Altomy @gy_yah قليلين ادب ومنافقين. لو ا...\n",
       "1  1009794751548313600  @AlmFaisal 😂😂 الليبيين متقلبين!!!\\nبس بالنسبة ...\n",
       "2  1019989115490787200  @smsm071990 @ALMOGRBE كل 20 تانيه شاب ليبي بير...\n",
       "3  1035479791758135168  @AboryPro @lyranoo85 رانيا عقليتك متخلفة. اولا...\n",
       "4  1035481122921164800  @lyranoo85 شكلك متعقدة علشان الراجل لي تحبيه ا...\n",
       "5   877881537122979840  @alibobkr63 او حتى من اي دين او طائفة. اسف ممك...\n",
       "6   882940840888471552     @muhamed01111 باهي نستنوه. بلكي مشغول ولا حاجة\n",
       "7   882941769444466688  @muhamed01111 مهما اختلفنا راه نحنا خوت. والله...\n",
       "8   882943694906818560  @muhamed01111 بالنسبة ليا انا والله شبعت هم ون...\n",
       "9   884736569118261248  @Ajo32asLibya @Jed_ly مو نحنا الحياة عندنا مية..."
      ]
     },
     "execution_count": 4,
     "metadata": {},
     "output_type": "execute_result"
    }
   ],
   "source": [
    "table1 = pd.read_csv(r\"C:\\Users\\alabdeen\\Desktop\\Ai-Book\\Advanced NLP\\Project_nlp\\table1.csv\")\n",
    "table1.head(10)"
   ]
  },
  {
   "cell_type": "code",
   "execution_count": 5,
   "metadata": {
    "colab": {
     "base_uri": "https://localhost:8080/"
    },
    "id": "O059hoHsIBGF",
    "outputId": "34c85014-7b02-45fd-8e1d-5c5d74b92280"
   },
   "outputs": [
    {
     "data": {
      "text/html": [
       "<div>\n",
       "<style scoped>\n",
       "    .dataframe tbody tr th:only-of-type {\n",
       "        vertical-align: middle;\n",
       "    }\n",
       "\n",
       "    .dataframe tbody tr th {\n",
       "        vertical-align: top;\n",
       "    }\n",
       "\n",
       "    .dataframe thead th {\n",
       "        text-align: right;\n",
       "    }\n",
       "</style>\n",
       "<table border=\"1\" class=\"dataframe\">\n",
       "  <thead>\n",
       "    <tr style=\"text-align: right;\">\n",
       "      <th></th>\n",
       "      <th>id</th>\n",
       "      <th>dialect</th>\n",
       "    </tr>\n",
       "  </thead>\n",
       "  <tbody>\n",
       "    <tr>\n",
       "      <th>0</th>\n",
       "      <td>1009754958479151232</td>\n",
       "      <td>LY</td>\n",
       "    </tr>\n",
       "    <tr>\n",
       "      <th>1</th>\n",
       "      <td>1009794751548313600</td>\n",
       "      <td>LY</td>\n",
       "    </tr>\n",
       "    <tr>\n",
       "      <th>2</th>\n",
       "      <td>1019989115490787200</td>\n",
       "      <td>LY</td>\n",
       "    </tr>\n",
       "    <tr>\n",
       "      <th>3</th>\n",
       "      <td>1035479791758135168</td>\n",
       "      <td>LY</td>\n",
       "    </tr>\n",
       "    <tr>\n",
       "      <th>4</th>\n",
       "      <td>1035481122921164800</td>\n",
       "      <td>LY</td>\n",
       "    </tr>\n",
       "    <tr>\n",
       "      <th>5</th>\n",
       "      <td>877881537122979840</td>\n",
       "      <td>LY</td>\n",
       "    </tr>\n",
       "    <tr>\n",
       "      <th>6</th>\n",
       "      <td>882940840888471552</td>\n",
       "      <td>LY</td>\n",
       "    </tr>\n",
       "    <tr>\n",
       "      <th>7</th>\n",
       "      <td>882941769444466688</td>\n",
       "      <td>LY</td>\n",
       "    </tr>\n",
       "    <tr>\n",
       "      <th>8</th>\n",
       "      <td>882943694906818560</td>\n",
       "      <td>LY</td>\n",
       "    </tr>\n",
       "    <tr>\n",
       "      <th>9</th>\n",
       "      <td>884736569118261248</td>\n",
       "      <td>LY</td>\n",
       "    </tr>\n",
       "  </tbody>\n",
       "</table>\n",
       "</div>"
      ],
      "text/plain": [
       "                    id dialect\n",
       "0  1009754958479151232      LY\n",
       "1  1009794751548313600      LY\n",
       "2  1019989115490787200      LY\n",
       "3  1035479791758135168      LY\n",
       "4  1035481122921164800      LY\n",
       "5   877881537122979840      LY\n",
       "6   882940840888471552      LY\n",
       "7   882941769444466688      LY\n",
       "8   882943694906818560      LY\n",
       "9   884736569118261248      LY"
      ]
     },
     "execution_count": 5,
     "metadata": {},
     "output_type": "execute_result"
    }
   ],
   "source": [
    "table2 = pd.read_csv(r\"C:\\Users\\alabdeen\\Desktop\\Ai-Book\\Advanced NLP\\Project_nlp\\table2.csv\")\n",
    "table2.head(10)"
   ]
  },
  {
   "cell_type": "code",
   "execution_count": 6,
   "metadata": {
    "colab": {
     "base_uri": "https://localhost:8080/"
    },
    "id": "DI_MZwAOa6hz",
    "outputId": "5132bb0f-29c5-4990-b255-e6993dac68dd"
   },
   "outputs": [
    {
     "data": {
      "text/html": [
       "<div>\n",
       "<style scoped>\n",
       "    .dataframe tbody tr th:only-of-type {\n",
       "        vertical-align: middle;\n",
       "    }\n",
       "\n",
       "    .dataframe tbody tr th {\n",
       "        vertical-align: top;\n",
       "    }\n",
       "\n",
       "    .dataframe thead th {\n",
       "        text-align: right;\n",
       "    }\n",
       "</style>\n",
       "<table border=\"1\" class=\"dataframe\">\n",
       "  <thead>\n",
       "    <tr style=\"text-align: right;\">\n",
       "      <th></th>\n",
       "      <th>id</th>\n",
       "      <th>text</th>\n",
       "      <th>dialect</th>\n",
       "    </tr>\n",
       "  </thead>\n",
       "  <tbody>\n",
       "    <tr>\n",
       "      <th>0</th>\n",
       "      <td>1009754958479151232</td>\n",
       "      <td>@toha_Altomy @gy_yah قليلين ادب ومنافقين. لو ا...</td>\n",
       "      <td>LY</td>\n",
       "    </tr>\n",
       "    <tr>\n",
       "      <th>1</th>\n",
       "      <td>1009794751548313600</td>\n",
       "      <td>@AlmFaisal 😂😂 الليبيين متقلبين!!!\\nبس بالنسبة ...</td>\n",
       "      <td>LY</td>\n",
       "    </tr>\n",
       "    <tr>\n",
       "      <th>2</th>\n",
       "      <td>1019989115490787200</td>\n",
       "      <td>@smsm071990 @ALMOGRBE كل 20 تانيه شاب ليبي بير...</td>\n",
       "      <td>LY</td>\n",
       "    </tr>\n",
       "    <tr>\n",
       "      <th>3</th>\n",
       "      <td>1035479791758135168</td>\n",
       "      <td>@AboryPro @lyranoo85 رانيا عقليتك متخلفة. اولا...</td>\n",
       "      <td>LY</td>\n",
       "    </tr>\n",
       "    <tr>\n",
       "      <th>4</th>\n",
       "      <td>1035481122921164800</td>\n",
       "      <td>@lyranoo85 شكلك متعقدة علشان الراجل لي تحبيه ا...</td>\n",
       "      <td>LY</td>\n",
       "    </tr>\n",
       "  </tbody>\n",
       "</table>\n",
       "</div>"
      ],
      "text/plain": [
       "                    id                                               text  \\\n",
       "0  1009754958479151232  @toha_Altomy @gy_yah قليلين ادب ومنافقين. لو ا...   \n",
       "1  1009794751548313600  @AlmFaisal 😂😂 الليبيين متقلبين!!!\\nبس بالنسبة ...   \n",
       "2  1019989115490787200  @smsm071990 @ALMOGRBE كل 20 تانيه شاب ليبي بير...   \n",
       "3  1035479791758135168  @AboryPro @lyranoo85 رانيا عقليتك متخلفة. اولا...   \n",
       "4  1035481122921164800  @lyranoo85 شكلك متعقدة علشان الراجل لي تحبيه ا...   \n",
       "\n",
       "  dialect  \n",
       "0      LY  \n",
       "1      LY  \n",
       "2      LY  \n",
       "3      LY  \n",
       "4      LY  "
      ]
     },
     "execution_count": 6,
     "metadata": {},
     "output_type": "execute_result"
    }
   ],
   "source": [
    "df = pd.merge(table1,table2,on='id')\n",
    "df.head()"
   ]
  },
  {
   "cell_type": "markdown",
   "metadata": {
    "id": "ElR3OK0UcV1U"
   },
   "source": [
    "# **EDA**"
   ]
  },
  {
   "cell_type": "code",
   "execution_count": 7,
   "metadata": {
    "colab": {
     "base_uri": "https://localhost:8080/"
    },
    "id": "tziRrZM5uuH3",
    "outputId": "e4419698-7e3e-4533-aeab-1fdac7b334a8"
   },
   "outputs": [
    {
     "name": "stdout",
     "output_type": "stream",
     "text": [
      "<class 'pandas.core.frame.DataFrame'>\n",
      "RangeIndex: 147725 entries, 0 to 147724\n",
      "Data columns (total 3 columns):\n",
      " #   Column   Non-Null Count   Dtype \n",
      "---  ------   --------------   ----- \n",
      " 0   id       147725 non-null  int64 \n",
      " 1   text     147725 non-null  object\n",
      " 2   dialect  147725 non-null  object\n",
      "dtypes: int64(1), object(2)\n",
      "memory usage: 3.4+ MB\n"
     ]
    }
   ],
   "source": [
    "df.info()"
   ]
  },
  {
   "cell_type": "code",
   "execution_count": 8,
   "metadata": {
    "colab": {
     "base_uri": "https://localhost:8080/"
    },
    "id": "GuqhJzTiu43c",
    "outputId": "7ff40338-1424-449e-8112-d85a38dc4953"
   },
   "outputs": [
    {
     "data": {
      "text/plain": [
       "id         0\n",
       "text       0\n",
       "dialect    0\n",
       "dtype: int64"
      ]
     },
     "execution_count": 8,
     "metadata": {},
     "output_type": "execute_result"
    }
   ],
   "source": [
    "df.isnull().sum()"
   ]
  },
  {
   "cell_type": "code",
   "execution_count": 9,
   "metadata": {
    "colab": {
     "base_uri": "https://localhost:8080/"
    },
    "id": "b48rI_T9vAAM",
    "outputId": "999f1ff7-a366-40db-e76d-8551f7642416"
   },
   "outputs": [
    {
     "data": {
      "text/plain": [
       "np.int64(0)"
      ]
     },
     "execution_count": 9,
     "metadata": {},
     "output_type": "execute_result"
    }
   ],
   "source": [
    "df.duplicated().sum()"
   ]
  },
  {
   "cell_type": "code",
   "execution_count": 10,
   "metadata": {
    "colab": {
     "base_uri": "https://localhost:8080/"
    },
    "id": "GeWPSAlAWbqu",
    "outputId": "f6f9524f-1569-43d5-c8c0-693d9b593210"
   },
   "outputs": [
    {
     "data": {
      "text/plain": [
       "dialect\n",
       "EG    57636\n",
       "LY    36499\n",
       "LB    27617\n",
       "SD    14434\n",
       "MA    11539\n",
       "Name: count, dtype: int64"
      ]
     },
     "execution_count": 10,
     "metadata": {},
     "output_type": "execute_result"
    }
   ],
   "source": [
    "# LY - Libya\n",
    "# LB - Lebanon\n",
    "# EG - Egypt\n",
    "# SD - sodan\n",
    "# MA\n",
    "df['dialect'].value_counts()"
   ]
  },
  {
   "cell_type": "code",
   "execution_count": 11,
   "metadata": {
    "colab": {
     "base_uri": "https://localhost:8080/"
    },
    "id": "Ky4x3BXVd5gx",
    "outputId": "02e0b1fe-1b4b-4dbe-92fc-7c7454b469b7"
   },
   "outputs": [
    {
     "name": "stderr",
     "output_type": "stream",
     "text": [
      "C:\\Users\\alabdeen\\AppData\\Local\\Temp\\ipykernel_10188\\3242380544.py:1: FutureWarning: \n",
      "\n",
      "Passing `palette` without assigning `hue` is deprecated and will be removed in v0.14.0. Assign the `x` variable to `hue` and set `legend=False` for the same effect.\n",
      "\n",
      "  sns.countplot(x='dialect', data=df, palette='viridis')\n"
     ]
    },
    {
     "data": {
      "text/plain": [
       "<Axes: xlabel='dialect', ylabel='count'>"
      ]
     },
     "execution_count": 11,
     "metadata": {},
     "output_type": "execute_result"
    },
    {
     "data": {
      "image/png": "[encoded data removed]",
      "text/plain": [
       "<Figure size 640x480 with 1 Axes>"
      ]
     },
     "metadata": {},
     "output_type": "display_data"
    }
   ],
   "source": [
    "sns.countplot(x='dialect', data=df, palette='viridis')"
   ]
  },
  {
   "cell_type": "code",
   "execution_count": 12,
   "metadata": {
    "id": "oplHhRiemMYz"
   },
   "outputs": [],
   "source": [
    "df.drop(columns=['id'], inplace=True)"
   ]
  },
  {
   "cell_type": "code",
   "execution_count": 13,
   "metadata": {
    "colab": {
     "base_uri": "https://localhost:8080/"
    },
    "id": "zrf4rm7DwcBK",
    "outputId": "c6ed2aa0-b9ff-4474-e208-ca47c02da208"
   },
   "outputs": [
    {
     "data": {
      "text/plain": [
       "Index(['text', 'dialect'], dtype='object')"
      ]
     },
     "execution_count": 13,
     "metadata": {},
     "output_type": "execute_result"
    }
   ],
   "source": [
    "df.columns"
   ]
  },
  {
   "cell_type": "code",
   "execution_count": 14,
   "metadata": {
    "colab": {
     "base_uri": "https://localhost:8080/"
    },
    "id": "84td4Dscv95v",
    "outputId": "ca93bd09-714e-4638-e7f7-4ff2f4757ce2"
   },
   "outputs": [
    {
     "name": "stdout",
     "output_type": "stream",
     "text": [
      "Train size: (118180,)\n",
      "Test size: (29545,)\n"
     ]
    }
   ],
   "source": [
    "X = df[\"text\"]\n",
    "y = df[\"dialect\"]\n",
    "X_train, X_test, y_train, y_test = train_test_split(X, y, test_size=0.2,stratify=y)\n",
    "print(\"Train size:\", X_train.shape)\n",
    "print(\"Test size:\", X_test.shape)"
   ]
  },
  {
   "cell_type": "code",
   "execution_count": 15,
   "metadata": {
    "id": "S9kHEgPxwqU5"
   },
   "outputs": [],
   "source": [
    "## create dataframe for training data\n",
    "Train_df = pd.DataFrame({\n",
    "    'text': X_train,\n",
    "    'label': y_train\n",
    "})"
   ]
  },
  {
   "cell_type": "code",
   "execution_count": 16,
   "metadata": {
    "id": "2ha-njvYwr2l"
   },
   "outputs": [],
   "source": [
    "## create dataframe for testing data\n",
    "Test_df = pd.DataFrame({\n",
    "    'text': X_test,\n",
    "    'label': y_test\n",
    "})"
   ]
  },
  {
   "cell_type": "markdown",
   "metadata": {
    "id": "sKlDsTCRvQmm"
   },
   "source": [
    "# Data Preprocessing"
   ]
  },
  {
   "cell_type": "code",
   "execution_count": 17,
   "metadata": {
    "colab": {
     "base_uri": "https://localhost:8080/",
     "height": 206
    },
    "id": "DbcSkQUQFpqx",
    "outputId": "e1d26fa8-3ebf-4268-8007-aabce1ae23d6",
    "scrolled": true
   },
   "outputs": [
    {
     "data": {
      "text/html": [
       "<div>\n",
       "<style scoped>\n",
       "    .dataframe tbody tr th:only-of-type {\n",
       "        vertical-align: middle;\n",
       "    }\n",
       "\n",
       "    .dataframe tbody tr th {\n",
       "        vertical-align: top;\n",
       "    }\n",
       "\n",
       "    .dataframe thead th {\n",
       "        text-align: right;\n",
       "    }\n",
       "</style>\n",
       "<table border=\"1\" class=\"dataframe\">\n",
       "  <thead>\n",
       "    <tr style=\"text-align: right;\">\n",
       "      <th></th>\n",
       "      <th>text</th>\n",
       "      <th>label</th>\n",
       "    </tr>\n",
       "  </thead>\n",
       "  <tbody>\n",
       "    <tr>\n",
       "      <th>88782</th>\n",
       "      <td>زهقنا بقى من جو الخُطَب ده \\n#القمة_العربية</td>\n",
       "      <td>EG</td>\n",
       "    </tr>\n",
       "    <tr>\n",
       "      <th>114230</th>\n",
       "      <td>في روتين بتخاف يضل، وفي روتين بتخاف يفل</td>\n",
       "      <td>LB</td>\n",
       "    </tr>\n",
       "    <tr>\n",
       "      <th>41531</th>\n",
       "      <td>@Nuha_islah ههههههه والله فكرني بيغ غي ادومة د...</td>\n",
       "      <td>MA</td>\n",
       "    </tr>\n",
       "    <tr>\n",
       "      <th>105644</th>\n",
       "      <td>@msry_o بص زمان ايام البيجو السبع راكب محافظات...</td>\n",
       "      <td>EG</td>\n",
       "    </tr>\n",
       "    <tr>\n",
       "      <th>131514</th>\n",
       "      <td>@ali_shoeib1 @MTVLebanonNews ممكن تبعتو رابيد ...</td>\n",
       "      <td>LB</td>\n",
       "    </tr>\n",
       "  </tbody>\n",
       "</table>\n",
       "</div>"
      ],
      "text/plain": [
       "                                                     text label\n",
       "88782         زهقنا بقى من جو الخُطَب ده \\n#القمة_العربية    EG\n",
       "114230            في روتين بتخاف يضل، وفي روتين بتخاف يفل    LB\n",
       "41531   @Nuha_islah ههههههه والله فكرني بيغ غي ادومة د...    MA\n",
       "105644  @msry_o بص زمان ايام البيجو السبع راكب محافظات...    EG\n",
       "131514  @ali_shoeib1 @MTVLebanonNews ممكن تبعتو رابيد ...    LB"
      ]
     },
     "execution_count": 17,
     "metadata": {},
     "output_type": "execute_result"
    }
   ],
   "source": [
    "Train_df.head()"
   ]
  },
  {
   "cell_type": "code",
   "execution_count": 18,
   "metadata": {},
   "outputs": [
    {
     "name": "stdout",
     "output_type": "stream",
     "text": [
      "Index([ 88782, 114230,  41531, 105644, 131514,  98927, 131770,  65258,  91417,\n",
      "       119771,\n",
      "       ...\n",
      "        82324,  76782,    378, 145681,  63770,  13582,  40587,  28088, 106600,\n",
      "       146172],\n",
      "      dtype='int64', length=118180)\n"
     ]
    }
   ],
   "source": [
    "print(Train_df.index)\n"
   ]
  },
  {
   "cell_type": "code",
   "execution_count": 19,
   "metadata": {
    "colab": {
     "base_uri": "https://localhost:8080/"
    },
    "id": "FKCsQUP84B5h",
    "outputId": "620db54c-0110-426c-db25-204a889432dd"
   },
   "outputs": [
    {
     "name": "stdout",
     "output_type": "stream",
     "text": [
      "هسي انا لو هبشت الورقة بكون فيها طالع نازل ولا بتكون عادية 😅 https://t.co/7YcR5U1gmN\n"
     ]
    }
   ],
   "source": [
    "row = Train_df['text'].loc[136532]\n",
    "print(row)"
   ]
  },
  {
   "cell_type": "code",
   "execution_count": 20,
   "metadata": {
    "id": "SAN9mfurvM2j"
   },
   "outputs": [],
   "source": [
    "## use Tankeeh\n",
    "cleander = tn.Tnkeeh(remove_diacritics=True,\n",
    "                     remove_html_elements=True,\n",
    "                     remove_twitter_meta=True,\n",
    "                     remove_links=True,\n",
    "                     remove_english=True,\n",
    "                     remove_repeated_chars=True,\n",
    "                     remove_long_words=True,\n",
    "                     normalize=True\n",
    "                     )"
   ]
  },
  {
   "cell_type": "code",
   "execution_count": 21,
   "metadata": {
    "id": "UqCQk-W5ve3u"
   },
   "outputs": [],
   "source": [
    "Train_df = cleander.clean_data_frame(Train_df,'text')\n",
    "Test_df = cleander.clean_data_frame(Test_df,'text')\n"
   ]
  },
  {
   "cell_type": "code",
   "execution_count": 25,
   "metadata": {
    "colab": {
     "base_uri": "https://localhost:8080/"
    },
    "id": "c4oUi0r1GxP9",
    "outputId": "013f6855-34e4-4ac6-e7de-ae602ba90fe7"
   },
   "outputs": [
    {
     "name": "stdout",
     "output_type": "stream",
     "text": [
      " # الاخوان المجرمين الخونة الارهابيين الكدابين الفجرة ال بيفطروا على دم الصايمين كانوا ازاى بيحكموا # مصر لك الشكر يا الله على ازاحة هذا البلاء\n"
     ]
    }
   ],
   "source": [
    "row = Train_df['text'].loc[89133]\n",
    "print(row)"
   ]
  },
  {
   "cell_type": "code",
   "execution_count": 52,
   "metadata": {
    "colab": {
     "base_uri": "https://localhost:8080/",
     "height": 112
    },
    "id": "-LrMwOMUx_z9",
    "outputId": "27ff3c70-df01-43d6-d2c9-6529fc025768"
   },
   "outputs": [
    {
     "data": {
      "text/html": [
       "<div>\n",
       "<style scoped>\n",
       "    .dataframe tbody tr th:only-of-type {\n",
       "        vertical-align: middle;\n",
       "    }\n",
       "\n",
       "    .dataframe tbody tr th {\n",
       "        vertical-align: top;\n",
       "    }\n",
       "\n",
       "    .dataframe thead th {\n",
       "        text-align: right;\n",
       "    }\n",
       "</style>\n",
       "<table border=\"1\" class=\"dataframe\">\n",
       "  <thead>\n",
       "    <tr style=\"text-align: right;\">\n",
       "      <th></th>\n",
       "      <th>text</th>\n",
       "      <th>label</th>\n",
       "    </tr>\n",
       "  </thead>\n",
       "  <tbody>\n",
       "    <tr>\n",
       "      <th>116153</th>\n",
       "      <td>حبيب القلب ، لا شومان زفتا قرايبيننا ، انا من...</td>\n",
       "      <td>LB</td>\n",
       "    </tr>\n",
       "    <tr>\n",
       "      <th>123642</th>\n",
       "      <td>بس يغيرو محل البوز 😂</td>\n",
       "      <td>LB</td>\n",
       "    </tr>\n",
       "  </tbody>\n",
       "</table>\n",
       "</div>"
      ],
      "text/plain": [
       "                                                     text label\n",
       "116153   حبيب القلب ، لا شومان زفتا قرايبيننا ، انا من...    LB\n",
       "123642                              بس يغيرو محل البوز 😂     LB"
      ]
     },
     "execution_count": 52,
     "metadata": {},
     "output_type": "execute_result"
    }
   ],
   "source": [
    "Train_df.head(2)"
   ]
  },
  {
   "cell_type": "code",
   "execution_count": 54,
   "metadata": {
    "id": "mVbkdeV-yNhl"
   },
   "outputs": [],
   "source": [
    "## remove digits\n",
    "def remove_digits(df, column_name):\n",
    "    df[column_name] = df[column_name].replace(r'[0-9٠-٩]', '', regex=True)\n",
    "    return df\n",
    "Train_df = remove_digits(Train_df,'text')\n",
    "Test_df = remove_digits(Test_df,'text')"
   ]
  },
  {
   "cell_type": "code",
   "execution_count": 41,
   "metadata": {
    "colab": {
     "base_uri": "https://localhost:8080/"
    },
    "id": "aCuorq7_LLEy",
    "outputId": "dc0715a7-3906-4809-a3c1-42a5047dfe28"
   },
   "outputs": [
    {
     "name": "stdout",
     "output_type": "stream",
     "text": [
      "  نفسنا نشوف مسؤول مايتغيرش بعد توليه المسؤولية ويفضل على مبادئه الثورجية وأملنا كبير فى أبو عيطة ود  حسام عيسى\n"
     ]
    }
   ],
   "source": [
    "row = Train_df['text'].loc[89132]\n",
    "print(row)"
   ]
  },
  {
   "cell_type": "code",
   "execution_count": 27,
   "metadata": {
    "id": "7283KB8YN18C"
   },
   "outputs": [],
   "source": [
    "def remove_special_characters(text):\n",
    "    # Replace \"؟\", \"@\", \"_\", and \"-\" with an empty string\n",
    "    text = text.replace(\"؟\", \"\")\n",
    "    text = text.replace(\"@\", \"\")\n",
    "    text = text.replace(\"_\", \"\")\n",
    "    text = text.replace(\"-\", \"\")\n",
    "    return text\n",
    "\n",
    "# Apply the function to the 'text' column of Train_df and Test_df\n",
    "Train_df['text'] = Train_df['text'].apply(remove_special_characters)\n",
    "Test_df['text'] = Test_df['text'].apply(remove_special_characters)"
   ]
  },
  {
   "cell_type": "code",
   "execution_count": 28,
   "metadata": {
    "colab": {
     "base_uri": "https://localhost:8080/"
    },
    "id": "Pzj0WfUMN_y_",
    "outputId": "5182db41-8b85-4806-df4a-26c16f479c6a"
   },
   "outputs": [
    {
     "name": "stdout",
     "output_type": "stream",
     "text": [
      "  نفسنا نشوف مسؤول مايتغيرش بعد توليه المسؤولية ويفضل على مبادئه الثورجية وأملنا كبير فى أبو عيطة ود . حسام عيسى\n"
     ]
    }
   ],
   "source": [
    "row = Train_df['text'].loc[89132]\n",
    "print(row)"
   ]
  },
  {
   "cell_type": "code",
   "execution_count": 72,
   "metadata": {
    "id": "7tZdn37sNQ7E"
   },
   "outputs": [],
   "source": [
    "import re\n",
    "def remove_emojis(text):\n",
    "    # Define the pattern for detecting emojis\n",
    "    emoji_pattern = re.compile(\"[\"\n",
    "                               u\"\\U0001F600-\\U0001F64F\"  # emoticons\n",
    "                               u\"\\U0001F300-\\U0001F5FF\"  # symbols & pictographs\n",
    "                               u\"\\U0001F680-\\U0001F6FF\"  # transport & map symbols\n",
    "                               u\"\\U0001F700-\\U0001F77F\"  # alchemical symbols\n",
    "                               u\"\\U0001F780-\\U0001F7FF\"  # Geometric Shapes Extended\n",
    "                               u\"\\U0001F800-\\U0001F8FF\"  # Supplemental Arrows-C\n",
    "                               u\"\\U0001F900-\\U0001F9FF\"  # Supplemental Symbols and Pictographs\n",
    "                               u\"\\U0001FA00-\\U0001FA6F\"  # Chess Symbols\n",
    "                               u\"\\U0001FA70-\\U0001FAFF\"  # Symbols and Pictographs Extended-A\n",
    "                               u\"\\U00002702-\\U000027B0\"  # Dingbats\n",
    "                               u\"\\U000024C2-\\U0001F251\"\n",
    "                               \"]+\", flags=re.UNICODE)\n",
    "    # Remove emojis from the text\n",
    "    text_without_emojis = emoji_pattern.sub(r'', text)\n",
    "    return text_without_emojis\n",
    "\n",
    "# Apply the function to the 'text' column in Train_df\n",
    "Train_df['text'] = Train_df['text'].apply(remove_emojis)\n",
    "Test_df['text'] = Test_df['text'].apply(remove_emojis)\n"
   ]
  },
  {
   "cell_type": "code",
   "execution_count": 29,
   "metadata": {
    "colab": {
     "base_uri": "https://localhost:8080/"
    },
    "id": "filS_e6tNbyq",
    "outputId": "8241715f-c7ec-4ad9-a119-9d499b937465"
   },
   "outputs": [
    {
     "name": "stdout",
     "output_type": "stream",
     "text": [
      "  نفسنا نشوف مسؤول مايتغيرش بعد توليه المسؤولية ويفضل على مبادئه الثورجية وأملنا كبير فى أبو عيطة ود . حسام عيسى\n"
     ]
    }
   ],
   "source": [
    "row = Train_df['text'].loc[89132]\n",
    "print(row)"
   ]
  },
  {
   "cell_type": "code",
   "execution_count": 30,
   "metadata": {
    "id": "8c6z4dn5ymVK"
   },
   "outputs": [],
   "source": [
    "## remove punctiuation\n",
    "def remove_arabic_punctuation(text):\n",
    "    # Define regular expression pattern for Arabic punctuation\n",
    "    arabic_punctuation_pattern = r'[^\\w\\s\\u0621-\\u063A\\u0641-\\u064A]'\n",
    "    clean_text = re.sub(arabic_punctuation_pattern,'',text)\n",
    "    return clean_text\n",
    "Train_df['text'] = Train_df['text'].apply(remove_arabic_punctuation)\n",
    "Test_df['text'] = Test_df['text'].apply(remove_arabic_punctuation)"
   ]
  },
  {
   "cell_type": "code",
   "execution_count": 32,
   "metadata": {
    "colab": {
     "base_uri": "https://localhost:8080/"
    },
    "id": "wwWtJJhtzjso",
    "outputId": "60ac6ac4-4fc7-432f-c687-108bb8c54c7c"
   },
   "outputs": [
    {
     "name": "stdout",
     "output_type": "stream",
     "text": [
      "  نفسنا نشوف مسؤول مايتغيرش بعد توليه المسؤولية ويفضل على مبادئه الثورجية وأملنا كبير فى أبو عيطة ود  حسام عيسى\n"
     ]
    }
   ],
   "source": [
    "row = Train_df['text'].loc[89132]\n",
    "print(row)"
   ]
  },
  {
   "cell_type": "code",
   "execution_count": 44,
   "metadata": {
    "id": "xKiNsR9azteX"
   },
   "outputs": [],
   "source": [
    "## Remove spaces from beginning/ middle/ end\n",
    "def remove_spaces(text):\n",
    "    return re.sub(r'\\s+', ' ', text).strip()\n",
    "\n",
    "Train_df['text'] = Train_df['text'].apply(lambda x: remove_spaces(x))\n",
    "Test_df['text'] = Test_df['text'].apply(lambda x: remove_spaces(x))"
   ]
  },
  {
   "cell_type": "code",
   "execution_count": 45,
   "metadata": {
    "colab": {
     "base_uri": "https://localhost:8080/"
    },
    "id": "AhhrDV4-5LAX",
    "outputId": "7a608974-743a-4d39-adf4-b22e9918b64d"
   },
   "outputs": [
    {
     "name": "stdout",
     "output_type": "stream",
     "text": [
      "نفسنا نشوف مسؤول مايتغيرش بعد توليه المسؤولية ويفضل على مبادئه الثورجية وأملنا كبير فى أبو عيطة ود حسام عيسى\n"
     ]
    }
   ],
   "source": [
    "row = Train_df['text'].loc[89132]\n",
    "print(row)"
   ]
  },
  {
   "cell_type": "code",
   "execution_count": 46,
   "metadata": {
    "colab": {
     "base_uri": "https://localhost:8080/",
     "height": 112
    },
    "id": "TH87WKd_OP_f",
    "outputId": "4894afea-cde7-4ec9-89a7-4ae4004046d5"
   },
   "outputs": [
    {
     "data": {
      "text/html": [
       "<div>\n",
       "<style scoped>\n",
       "    .dataframe tbody tr th:only-of-type {\n",
       "        vertical-align: middle;\n",
       "    }\n",
       "\n",
       "    .dataframe tbody tr th {\n",
       "        vertical-align: top;\n",
       "    }\n",
       "\n",
       "    .dataframe thead th {\n",
       "        text-align: right;\n",
       "    }\n",
       "</style>\n",
       "<table border=\"1\" class=\"dataframe\">\n",
       "  <thead>\n",
       "    <tr style=\"text-align: right;\">\n",
       "      <th></th>\n",
       "      <th>text</th>\n",
       "      <th>label</th>\n",
       "    </tr>\n",
       "  </thead>\n",
       "  <tbody>\n",
       "    <tr>\n",
       "      <th>88782</th>\n",
       "      <td>زهقنا بقى من جو الخطب ده</td>\n",
       "      <td>EG</td>\n",
       "    </tr>\n",
       "    <tr>\n",
       "      <th>114230</th>\n",
       "      <td>في روتين بتخاف يضل وفي روتين بتخاف يفل</td>\n",
       "      <td>LB</td>\n",
       "    </tr>\n",
       "  </tbody>\n",
       "</table>\n",
       "</div>"
      ],
      "text/plain": [
       "                                          text label\n",
       "88782                 زهقنا بقى من جو الخطب ده    EG\n",
       "114230  في روتين بتخاف يضل وفي روتين بتخاف يفل    LB"
      ]
     },
     "execution_count": 46,
     "metadata": {},
     "output_type": "execute_result"
    }
   ],
   "source": [
    "Train_df.head(2)"
   ]
  },
  {
   "cell_type": "code",
   "execution_count": 47,
   "metadata": {
    "id": "XXJk8t3ZEiPe",
    "scrolled": true
   },
   "outputs": [
    {
     "data": {
      "text/html": [
       "<div>\n",
       "<style scoped>\n",
       "    .dataframe tbody tr th:only-of-type {\n",
       "        vertical-align: middle;\n",
       "    }\n",
       "\n",
       "    .dataframe tbody tr th {\n",
       "        vertical-align: top;\n",
       "    }\n",
       "\n",
       "    .dataframe thead th {\n",
       "        text-align: right;\n",
       "    }\n",
       "</style>\n",
       "<table border=\"1\" class=\"dataframe\">\n",
       "  <thead>\n",
       "    <tr style=\"text-align: right;\">\n",
       "      <th></th>\n",
       "      <th>text</th>\n",
       "      <th>label</th>\n",
       "    </tr>\n",
       "  </thead>\n",
       "  <tbody>\n",
       "    <tr>\n",
       "      <th>88782</th>\n",
       "      <td>زهقنا بقى من جو الخطب ده</td>\n",
       "      <td>EG</td>\n",
       "    </tr>\n",
       "    <tr>\n",
       "      <th>114230</th>\n",
       "      <td>في روتين بتخاف يضل وفي روتين بتخاف يفل</td>\n",
       "      <td>LB</td>\n",
       "    </tr>\n",
       "    <tr>\n",
       "      <th>41531</th>\n",
       "      <td>هه والله فكرني بيغ غي ادومة ديالنا مستيلي عليه</td>\n",
       "      <td>MA</td>\n",
       "    </tr>\n",
       "    <tr>\n",
       "      <th>105644</th>\n",
       "      <td>بص زمان ايام البيجو السبع راكب محافظات واحد را...</td>\n",
       "      <td>EG</td>\n",
       "    </tr>\n",
       "    <tr>\n",
       "      <th>131514</th>\n",
       "      <td>1 ممكن تبعتو رابيد عالحدود مع مصور وتنقلو الي ...</td>\n",
       "      <td>LB</td>\n",
       "    </tr>\n",
       "    <tr>\n",
       "      <th>...</th>\n",
       "      <td>...</td>\n",
       "      <td>...</td>\n",
       "    </tr>\n",
       "    <tr>\n",
       "      <th>13582</th>\n",
       "      <td>ميسي عليه غسل مواعين الغدا ورونالدو مواعين الع...</td>\n",
       "      <td>LY</td>\n",
       "    </tr>\n",
       "    <tr>\n",
       "      <th>40587</th>\n",
       "      <td>اليوم كل اصحابي لي احبهم غايبين عني</td>\n",
       "      <td>MA</td>\n",
       "    </tr>\n",
       "    <tr>\n",
       "      <th>28088</th>\n",
       "      <td>الحطب يبي ذهب ويبي 60 وقية حتي البطاطين يشكرو ...</td>\n",
       "      <td>LY</td>\n",
       "    </tr>\n",
       "    <tr>\n",
       "      <th>106600</th>\n",
       "      <td>ياريت يكون في دعم تبرع لدفاع المدني كل لازم يس...</td>\n",
       "      <td>LB</td>\n",
       "    </tr>\n",
       "    <tr>\n",
       "      <th>146172</th>\n",
       "      <td>والله الطرطور ما يقدر يصرف ليهم بلحة بركاوي وا...</td>\n",
       "      <td>SD</td>\n",
       "    </tr>\n",
       "  </tbody>\n",
       "</table>\n",
       "<p>118180 rows × 2 columns</p>\n",
       "</div>"
      ],
      "text/plain": [
       "                                                     text label\n",
       "88782                            زهقنا بقى من جو الخطب ده    EG\n",
       "114230             في روتين بتخاف يضل وفي روتين بتخاف يفل    LB\n",
       "41531      هه والله فكرني بيغ غي ادومة ديالنا مستيلي عليه    MA\n",
       "105644  بص زمان ايام البيجو السبع راكب محافظات واحد را...    EG\n",
       "131514  1 ممكن تبعتو رابيد عالحدود مع مصور وتنقلو الي ...    LB\n",
       "...                                                   ...   ...\n",
       "13582   ميسي عليه غسل مواعين الغدا ورونالدو مواعين الع...    LY\n",
       "40587                 اليوم كل اصحابي لي احبهم غايبين عني    MA\n",
       "28088   الحطب يبي ذهب ويبي 60 وقية حتي البطاطين يشكرو ...    LY\n",
       "106600  ياريت يكون في دعم تبرع لدفاع المدني كل لازم يس...    LB\n",
       "146172  والله الطرطور ما يقدر يصرف ليهم بلحة بركاوي وا...    SD\n",
       "\n",
       "[118180 rows x 2 columns]"
      ]
     },
     "execution_count": 47,
     "metadata": {},
     "output_type": "execute_result"
    }
   ],
   "source": [
    "Train_df"
   ]
  },
  {
   "cell_type": "code",
   "execution_count": 48,
   "metadata": {
    "id": "I1OGWuWcsfcv"
   },
   "outputs": [],
   "source": [
    "Train_df.to_csv(r\"C:\\Users\\alabdeen\\Desktop\\Ai-Book\\Advanced NLP\\Project_nlp\\preprocessed_train_with_stopwords.csv\", index=False)\n",
    "Test_df.to_csv(r\"C:\\Users\\alabdeen\\Desktop\\Ai-Book\\Advanced NLP\\Project_nlp\\preprocessed_test_with_stopwords.csv\", index=False)\n"
   ]
  },
  {
   "cell_type": "code",
   "execution_count": null,
   "metadata": {},
   "outputs": [],
   "source": []
  }
 ],
 "metadata": {
  "colab": {
   "provenance": []
  },
  "kernelspec": {
   "display_name": "Python 3 (ipykernel)",
   "language": "python",
   "name": "python3"
  },
  "language_info": {
   "codemirror_mode": {
    "name": "ipython",
    "version": 3
   },
   "file_extension": ".py",
   "mimetype": "text/x-python",
   "name": "python",
   "nbconvert_exporter": "python",
   "pygments_lexer": "ipython3",
   "version": "3.12.7"
  }
 },
 "nbformat": 4,
 "nbformat_minor": 4
}
